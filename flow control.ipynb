{
 "cells": [
  {
   "cell_type": "code",
   "execution_count": 1,
   "id": "274bd1b6",
   "metadata": {},
   "outputs": [
    {
     "name": "stdout",
     "output_type": "stream",
     "text": [
      "hi\n",
      "welcome\n",
      "bye\n"
     ]
    }
   ],
   "source": [
    "print(\"hi\")\n",
    "print(\"welcome\")\n",
    "print(\"bye\")"
   ]
  },
  {
   "cell_type": "code",
   "execution_count": null,
   "id": "8828529d",
   "metadata": {},
   "outputs": [],
   "source": [
    "sequential --> line by line"
   ]
  },
  {
   "cell_type": "code",
   "execution_count": null,
   "id": "90c19fd9",
   "metadata": {},
   "outputs": [],
   "source": [
    "flow control statement:\n",
    "    1.simple if\n",
    "    2.if-else\n",
    "    3.if-else ladder\n",
    "    4.nested if-else"
   ]
  },
  {
   "cell_type": "code",
   "execution_count": null,
   "id": "e57c022b",
   "metadata": {},
   "outputs": [],
   "source": [
    "indentation -- no of equal spaces"
   ]
  },
  {
   "cell_type": "code",
   "execution_count": null,
   "id": "751ca122",
   "metadata": {},
   "outputs": [],
   "source": [
    "simple if - only one condition"
   ]
  },
  {
   "cell_type": "code",
   "execution_count": null,
   "id": "8ff1205a",
   "metadata": {},
   "outputs": [],
   "source": [
    "if condition: True\n",
    "    block statements"
   ]
  },
  {
   "cell_type": "code",
   "execution_count": 3,
   "id": "f4908535",
   "metadata": {},
   "outputs": [
    {
     "name": "stdout",
     "output_type": "stream",
     "text": [
      "Enter the Age:85\n",
      "You should take booster dose\n",
      "Thank You\n"
     ]
    }
   ],
   "source": [
    "age = int(input(\"Enter the Age:\"))\n",
    "if age>75:\n",
    "    print(\"You should take booster dose\")\n",
    "print(\"Thank You\")\n",
    "print(\"asfsadf\")\n",
    "print(\"asdfsadfsdaf\")"
   ]
  },
  {
   "cell_type": "code",
   "execution_count": null,
   "id": "008222cd",
   "metadata": {},
   "outputs": [],
   "source": [
    "file = xlsx"
   ]
  },
  {
   "cell_type": "code",
   "execution_count": 5,
   "id": "a6c355d4",
   "metadata": {},
   "outputs": [
    {
     "name": "stdout",
     "output_type": "stream",
     "text": [
      "Enter the filename::test.xlsx\n",
      "test.xlsx is processing \n",
      "thanks for using our services\n"
     ]
    }
   ],
   "source": [
    "filename = input(\"Enter the filename::\")\n",
    "if filename.endswith('.xlsx'):\n",
    "    print(\"{} is processing \".format(filename))\n",
    "print(\"thanks for using our services\")"
   ]
  },
  {
   "cell_type": "code",
   "execution_count": 6,
   "id": "3ab6235e",
   "metadata": {},
   "outputs": [],
   "source": [
    "#if we have two condition which is opposite"
   ]
  },
  {
   "cell_type": "code",
   "execution_count": 1,
   "id": "e3244b98",
   "metadata": {},
   "outputs": [
    {
     "ename": "IndentationError",
     "evalue": "unexpected indent (3735707007.py, line 2)",
     "output_type": "error",
     "traceback": [
      "\u001b[1;36m  File \u001b[1;32m\"C:\\Users\\Admin\\AppData\\Local\\Temp\\ipykernel_10328\\3735707007.py\"\u001b[1;36m, line \u001b[1;32m2\u001b[0m\n\u001b[1;33m    block of code\u001b[0m\n\u001b[1;37m    ^\u001b[0m\n\u001b[1;31mIndentationError\u001b[0m\u001b[1;31m:\u001b[0m unexpected indent\n"
     ]
    }
   ],
   "source": [
    "if condition: True/False\n",
    "    block of code\n",
    "else:\n",
    "    block of code"
   ]
  },
  {
   "cell_type": "code",
   "execution_count": 2,
   "id": "2093b107",
   "metadata": {},
   "outputs": [
    {
     "ename": "NameError",
     "evalue": "name 'even' is not defined",
     "output_type": "error",
     "traceback": [
      "\u001b[1;31m---------------------------------------------------------------------------\u001b[0m",
      "\u001b[1;31mNameError\u001b[0m                                 Traceback (most recent call last)",
      "\u001b[1;32m~\\AppData\\Local\\Temp\\ipykernel_10328\\151216886.py\u001b[0m in \u001b[0;36m<module>\u001b[1;34m\u001b[0m\n\u001b[1;32m----> 1\u001b[1;33m \u001b[0meven\u001b[0m \u001b[1;32mor\u001b[0m \u001b[0modd\u001b[0m\u001b[1;33m\u001b[0m\u001b[1;33m\u001b[0m\u001b[0m\n\u001b[0m",
      "\u001b[1;31mNameError\u001b[0m: name 'even' is not defined"
     ]
    }
   ],
   "source": [
    "even or odd"
   ]
  },
  {
   "cell_type": "code",
   "execution_count": 9,
   "id": "e8d6ee1a",
   "metadata": {},
   "outputs": [
    {
     "name": "stdout",
     "output_type": "stream",
     "text": [
      "Enter the number::96\n",
      "96 is even number\n"
     ]
    }
   ],
   "source": [
    "num = int(input(\"Enter the number::\"))\n",
    "if num%2==0:\n",
    "    print(f\"{num} is even number\")\n",
    "else:\n",
    "    print(\"{} is odd number\".format(num))"
   ]
  },
  {
   "cell_type": "code",
   "execution_count": null,
   "id": "a79ca9b7",
   "metadata": {},
   "outputs": [],
   "source": []
  },
  {
   "cell_type": "code",
   "execution_count": null,
   "id": "4898d634",
   "metadata": {},
   "outputs": [],
   "source": [
    "\n",
    "email --> valid process gmail/rediffmail/yahoo\n",
    "\n",
    "invalid"
   ]
  },
  {
   "cell_type": "code",
   "execution_count": 16,
   "id": "b75bf2b4",
   "metadata": {},
   "outputs": [
    {
     "name": "stdout",
     "output_type": "stream",
     "text": [
      "Enter the emailid :testasdfsdaf\n",
      "Invalid email id --> testasdfsdaf\n"
     ]
    }
   ],
   "source": [
    "email = input(\"Enter the emailid :\")\n",
    "if email.endswith('@gmail.com') or email.endswith('@rediffmail.com') or email.endswith('@yahoo.com') or :\n",
    "    print(\"given {} id is valid \".format(email))\n",
    "    print(\"Processing email id\")\n",
    "else:\n",
    "    print(\"Invalid email id --> {}\".format(email))\n"
   ]
  },
  {
   "cell_type": "code",
   "execution_count": null,
   "id": "e7537da1",
   "metadata": {},
   "outputs": [],
   "source": [
    "email = input(\"Enter the emailid :\")\n",
    "if '@' in email and email.split('@')[-1] in ['gmail.com','rediffmail.com','yahoo.com','hotmail.com']:\n",
    "    print(\"given {} id is valid \".format(email))\n",
    "    print(\"Processing email id\")\n",
    "else:\n",
    "    print(\"Invalid email id --> {}\".format(email))"
   ]
  },
  {
   "cell_type": "code",
   "execution_count": 14,
   "id": "225dd074",
   "metadata": {},
   "outputs": [
    {
     "data": {
      "text/plain": [
       "True"
      ]
     },
     "execution_count": 14,
     "metadata": {},
     "output_type": "execute_result"
    }
   ],
   "source": [
    "False or True or False"
   ]
  },
  {
   "cell_type": "code",
   "execution_count": 20,
   "id": "af90d020",
   "metadata": {},
   "outputs": [
    {
     "name": "stdout",
     "output_type": "stream",
     "text": [
      "Enter the emailid :testsdafsdf\n",
      "Invalid email id --> testsdafsdf\n"
     ]
    }
   ],
   "source": []
  },
  {
   "cell_type": "code",
   "execution_count": null,
   "id": "fef70a56",
   "metadata": {},
   "outputs": [],
   "source": [
    "@ --> "
   ]
  },
  {
   "cell_type": "code",
   "execution_count": 18,
   "id": "48b22cec",
   "metadata": {},
   "outputs": [
    {
     "data": {
      "text/plain": [
       "'gmail.com'"
      ]
     },
     "execution_count": 18,
     "metadata": {},
     "output_type": "execute_result"
    }
   ],
   "source": [
    "'test@gmail.com'.split('@')[-1]"
   ]
  },
  {
   "cell_type": "code",
   "execution_count": null,
   "id": "605caf25",
   "metadata": {},
   "outputs": [],
   "source": [
    "problem solution --> break down --> p"
   ]
  },
  {
   "cell_type": "code",
   "execution_count": null,
   "id": "45b17670",
   "metadata": {},
   "outputs": [],
   "source": [
    "more than two condition "
   ]
  },
  {
   "cell_type": "code",
   "execution_count": null,
   "id": "0376af82",
   "metadata": {},
   "outputs": [],
   "source": [
    "if else ladder"
   ]
  },
  {
   "cell_type": "code",
   "execution_count": null,
   "id": "cea417cd",
   "metadata": {},
   "outputs": [],
   "source": [
    "if condition1:\n",
    "    block 1\n",
    "elif condition 2:\n",
    "    block 2\n",
    "elif condition 3:\n",
    "    block 3\n",
    "elif condition n:\n",
    "    block n\n",
    "else:\n",
    "    default\n",
    "    \n",
    "next"
   ]
  },
  {
   "cell_type": "code",
   "execution_count": null,
   "id": "b16aa037",
   "metadata": {},
   "outputs": [],
   "source": []
  },
  {
   "cell_type": "code",
   "execution_count": null,
   "id": "753eb037",
   "metadata": {},
   "outputs": [],
   "source": [
    "txt  -> logic\n",
    "\n",
    "pdf --> logic\n",
    "\n",
    "xlsx -- logic\n",
    "\n",
    "log -- logic"
   ]
  },
  {
   "cell_type": "code",
   "execution_count": 23,
   "id": "cb85dc40",
   "metadata": {},
   "outputs": [
    {
     "name": "stdout",
     "output_type": "stream",
     "text": [
      "Enter the filename:asdfasdf.sdfsdf\n",
      "invalid file\n"
     ]
    }
   ],
   "source": [
    "filename = input(\"Enter the filename:\")\n",
    "\n",
    "if filename.endswith('.txt'):\n",
    "    print(\"Processing {} file\".format(filename))\n",
    "elif filename.endswith('.pdf'):\n",
    "    print(\"Processing {} file\".format(filename))\n",
    "elif filename.endswith('.xlsx'):\n",
    "    print(\"Processing {} file\".format(filename))\n",
    "elif filename.endswith('.log'):\n",
    "    print(\"Processing {} file\".format(filename))\n",
    "else:\n",
    "    print(\"invalid file\")\n",
    "\n",
    "    "
   ]
  },
  {
   "cell_type": "code",
   "execution_count": null,
   "id": "0471375f",
   "metadata": {},
   "outputs": [],
   "source": [
    "sal >\n",
    "\n",
    "sal>50 and 75 --> 5 \n",
    "\n",
    "sal > 75 and 1 l --> 10\n",
    "\n",
    "sal > 1 and 1.5 --> 15\n",
    "\n",
    "sal > 1.5 --and 2 20\n",
    "\n",
    "else:\n",
    "    30 %"
   ]
  },
  {
   "cell_type": "code",
   "execution_count": null,
   "id": "a4c9ea6f",
   "metadata": {},
   "outputs": [],
   "source": [
    "logic clear \n",
    "\n",
    "tools"
   ]
  },
  {
   "cell_type": "code",
   "execution_count": null,
   "id": "0c0ea37a",
   "metadata": {},
   "outputs": [],
   "source": []
  },
  {
   "cell_type": "code",
   "execution_count": null,
   "id": "19f37db9",
   "metadata": {},
   "outputs": [],
   "source": []
  }
 ],
 "metadata": {
  "kernelspec": {
   "display_name": "Python 3 (ipykernel)",
   "language": "python",
   "name": "python3"
  },
  "language_info": {
   "codemirror_mode": {
    "name": "ipython",
    "version": 3
   },
   "file_extension": ".py",
   "mimetype": "text/x-python",
   "name": "python",
   "nbconvert_exporter": "python",
   "pygments_lexer": "ipython3",
   "version": "3.9.13"
  }
 },
 "nbformat": 4,
 "nbformat_minor": 5
}
